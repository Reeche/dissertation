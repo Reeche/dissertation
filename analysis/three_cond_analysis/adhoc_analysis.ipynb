{
 "cells": [
  {
   "cell_type": "markdown",
   "source": [
    "Chi^2 test to test the observed frequency of people using less than 2 intermediate strategies before converging to the optimal one\n",
    "vs equal or more than 2 strategies"
   ],
   "metadata": {
    "collapsed": false
   }
  },
  {
   "cell_type": "code",
   "execution_count": 1,
   "outputs": [
    {
     "name": "stdout",
     "output_type": "stream",
     "text": [
      "Power_divergenceResult(statistic=6.76, pvalue=0.009322376047437499)\n",
      "Power_divergenceResult(statistic=0.6153846153846154, pvalue=0.43276758066778465)\n",
      "Power_divergenceResult(statistic=0.2, pvalue=0.6547208460185768)\n",
      "Power_divergenceResult(statistic=0.6901408450704225, pvalue=0.4061164782195569)\n"
     ]
    }
   ],
   "source": [
    "from scipy.stats import chisquare\n",
    "\n",
    "# increasing\n",
    "print(chisquare([6, 19], f_exp=[12.5, 12.5]))\n",
    "# decreasing\n",
    "print(chisquare([15, 11], f_exp=[13, 13]))\n",
    "# constant\n",
    "print(chisquare([11, 9], f_exp=[10, 10]))\n",
    "\n",
    "# all\n",
    "print(chisquare([6+15+11, 19+11+9], f_exp=[12.5+13+10, 12.5+13+10]))"
   ],
   "metadata": {
    "collapsed": false,
    "ExecuteTime": {
     "end_time": "2023-05-27T15:57:38.494238Z",
     "start_time": "2023-05-27T15:57:37.428130Z"
    }
   }
  },
  {
   "cell_type": "markdown",
   "source": [
    "Check how many adaptive, maladapative, other strategies"
   ],
   "metadata": {
    "collapsed": false
   }
  },
  {
   "cell_type": "code",
   "execution_count": 29,
   "outputs": [
    {
     "name": "stdout",
     "output_type": "stream",
     "text": [
      "Counter({0: 69, 2: 11, 1: 9})\n"
     ]
    },
    {
     "data": {
      "text/plain": "[0.7752808988764045, 0.12359550561797752, 0.10112359550561797]"
     },
     "execution_count": 29,
     "metadata": {},
     "output_type": "execute_result"
    }
   ],
   "source": [
    "import pandas as pd\n",
    "from sklearn.cluster import KMeans\n",
    "import numpy as np\n",
    "experiment = \"v1.0\"\n",
    "# scores are already sorted, so first ones are adaptive, then others, then maladaptive\n",
    "strategy_scores = pd.read_pickle(f\"../../results/strategy_scores/{experiment}_strategy_scores.pkl\")\n",
    "kmeans = KMeans(n_clusters=3)\n",
    "kmeans.fit(np.array(list(strategy_scores.values())).reshape(-1,1))\n",
    "\n",
    "# print(kmeans.labels_)\n",
    "\n",
    "## count how many\n",
    "import collections\n",
    "counter = collections.Counter(kmeans.labels_)\n",
    "print(counter)\n",
    "[counter[x]/len(kmeans.labels_) for x in counter.keys()]"
   ],
   "metadata": {
    "collapsed": false
   }
  }
 ],
 "metadata": {
  "kernelspec": {
   "display_name": "Python 3",
   "language": "python",
   "name": "python3"
  },
  "language_info": {
   "codemirror_mode": {
    "name": "ipython",
    "version": 2
   },
   "file_extension": ".py",
   "mimetype": "text/x-python",
   "name": "python",
   "nbconvert_exporter": "python",
   "pygments_lexer": "ipython2",
   "version": "2.7.6"
  }
 },
 "nbformat": 4,
 "nbformat_minor": 0
}
