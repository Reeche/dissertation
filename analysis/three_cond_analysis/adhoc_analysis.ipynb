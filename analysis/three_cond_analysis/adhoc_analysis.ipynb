{
 "cells": [
  {
   "cell_type": "markdown",
   "source": [
    "Chi^2 test to test the observed frequency of people using less than 2 intermediate strategies before converging to the optimal one\n",
    "vs equal or more than 2 strategies"
   ],
   "metadata": {
    "collapsed": false
   }
  },
  {
   "cell_type": "code",
   "execution_count": 1,
   "outputs": [
    {
     "name": "stdout",
     "output_type": "stream",
     "text": [
      "Power_divergenceResult(statistic=6.76, pvalue=0.009322376047437499)\n",
      "Power_divergenceResult(statistic=0.6153846153846154, pvalue=0.43276758066778465)\n",
      "Power_divergenceResult(statistic=0.2, pvalue=0.6547208460185768)\n",
      "Power_divergenceResult(statistic=0.6901408450704225, pvalue=0.4061164782195569)\n"
     ]
    }
   ],
   "source": [
    "from scipy.stats import chisquare\n",
    "\n",
    "# increasing\n",
    "print(chisquare([6, 19], f_exp=[12.5, 12.5]))\n",
    "# decreasing\n",
    "print(chisquare([15, 11], f_exp=[13, 13]))\n",
    "# constant\n",
    "print(chisquare([11, 9], f_exp=[10, 10]))\n",
    "\n",
    "# all\n",
    "print(chisquare([6+15+11, 19+11+9], f_exp=[12.5+13+10, 12.5+13+10]))"
   ],
   "metadata": {
    "collapsed": false,
    "ExecuteTime": {
     "end_time": "2023-05-27T15:57:38.494238Z",
     "start_time": "2023-05-27T15:57:37.428130Z"
    }
   }
  },
  {
   "cell_type": "code",
   "execution_count": null,
   "outputs": [],
   "source": [],
   "metadata": {
    "collapsed": false
   }
  }
 ],
 "metadata": {
  "kernelspec": {
   "display_name": "Python 3",
   "language": "python",
   "name": "python3"
  },
  "language_info": {
   "codemirror_mode": {
    "name": "ipython",
    "version": 2
   },
   "file_extension": ".py",
   "mimetype": "text/x-python",
   "name": "python",
   "nbconvert_exporter": "python",
   "pygments_lexer": "ipython2",
   "version": "2.7.6"
  }
 },
 "nbformat": 4,
 "nbformat_minor": 0
}
