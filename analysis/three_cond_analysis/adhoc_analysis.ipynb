{
 "cells": [
  {
   "cell_type": "markdown",
   "source": [
    "Chi^2 test to test the observed frequency of people using less than 2 intermediate strategies before converging to the optimal one\n",
    "vs equal or more than 2 strategies"
   ],
   "metadata": {
    "collapsed": false
   }
  },
  {
   "cell_type": "code",
   "execution_count": 1,
   "outputs": [
    {
     "name": "stdout",
     "output_type": "stream",
     "text": [
      "Power_divergenceResult(statistic=6.76, pvalue=0.009322376047437499)\n",
      "Power_divergenceResult(statistic=0.6153846153846154, pvalue=0.43276758066778465)\n",
      "Power_divergenceResult(statistic=0.2, pvalue=0.6547208460185768)\n",
      "Power_divergenceResult(statistic=0.6901408450704225, pvalue=0.4061164782195569)\n"
     ]
    }
   ],
   "source": [
    "from scipy.stats import chisquare\n",
    "\n",
    "# increasing\n",
    "print(chisquare([6, 19], f_exp=[12.5, 12.5]))\n",
    "# decreasing\n",
    "print(chisquare([15, 11], f_exp=[13, 13]))\n",
    "# constant\n",
    "print(chisquare([11, 9], f_exp=[10, 10]))\n",
    "\n",
    "# all\n",
    "print(chisquare([6+15+11, 19+11+9], f_exp=[12.5+13+10, 12.5+13+10]))"
   ],
   "metadata": {
    "collapsed": false,
    "ExecuteTime": {
     "end_time": "2023-05-27T15:57:38.494238Z",
     "start_time": "2023-05-27T15:57:37.428130Z"
    }
   }
  },
  {
   "cell_type": "markdown",
   "source": [
    "Check how many adaptive, maladapative, other strategies"
   ],
   "metadata": {
    "collapsed": false
   }
  },
  {
   "cell_type": "code",
   "execution_count": 13,
   "outputs": [
    {
     "name": "stdout",
     "output_type": "stream",
     "text": [
      "[0 0 0 0 0 0 0 0 0 0 0 0 0 0 0 0 0 0 0 0 0 0 0 0 0 0 0 0 0 0 0 0 0 0 0 0 0\n",
      " 0 0 0 0 0 0 0 0 0 0 0 0 0 0 0 0 0 0 0 0 0 0 0 0 0 0 0 0 0 0 0 0 2 2 2 2 2\n",
      " 2 2 2 2 2 2 1 1 1 1 1 1 1 1 1]\n",
      "[21, 63, 88, 40, 51, 50, 38, 16, 83, 80, 29, 67, 47, 64, 58, 43, 24, 49, 42, 25, 57, 41, 31, 37, 75, 76, 19, 68, 85, 18, 17, 20, 87, 84, 52, 48, 62, 60, 77, 82, 59, 3, 9, 8, 10, 15, 5, 4, 54, 2, 36, 1, 71, 7, 11, 14, 46, 6, 72, 12, 13, 65, 26, 78, 45, 55, 56, 35, 86]\n",
      "[74, 66, 22, 28, 70, 53, 30, 23, 39]\n",
      "[33, 73, 32, 79, 89, 69, 44, 34, 81, 27, 61]\n",
      "Counter({0: 69, 2: 11, 1: 9})\n"
     ]
    },
    {
     "name": "stderr",
     "output_type": "stream",
     "text": [
      "/Users/rhe/PycharmProjects/mcl_toolbox/venv3.10/lib/python3.10/site-packages/sklearn/cluster/_kmeans.py:1412: FutureWarning: The default value of `n_init` will change from 10 to 'auto' in 1.4. Set the value of `n_init` explicitly to suppress the warning\n",
      "  super()._check_params_vs_input(X, default_n_init=10)\n"
     ]
    }
   ],
   "source": [
    "import pandas as pd\n",
    "from sklearn.cluster import KMeans\n",
    "import numpy as np\n",
    "experiment = \"v1.0\"\n",
    "# scores are already sorted, so first ones are adaptive, then others, then maladaptive\n",
    "strategy_scores = pd.read_pickle(f\"../../results/strategy_scores/{experiment}_strategy_scores.pkl\")\n",
    "kmeans = KMeans(n_clusters=3)\n",
    "kmeans.fit(np.array(list(strategy_scores.values())).reshape(-1,1))\n",
    "\n",
    "# show labels with corresponding values\n",
    "# print(strategy_scores)\n",
    "print(kmeans.labels_)\n",
    "\n",
    "# get the keys of the first cluster, add 1 because the keys are 0-indexed\n",
    "print([list(strategy_scores.keys())[i] + 1 for i in range(len(kmeans.labels_)) if kmeans.labels_[i] == 0])\n",
    "\n",
    "\n",
    "# get the keys of the second cluster\n",
    "print([list(strategy_scores.keys())[i] + 1 for i in range(len(kmeans.labels_)) if kmeans.labels_[i] == 1])\n",
    "\n",
    "# get the keys of the third cluster\n",
    "print([list(strategy_scores.keys())[i] + 1 for i in range(len(kmeans.labels_)) if kmeans.labels_[i] == 2])\n",
    "\n",
    "## count how many\n",
    "import collections\n",
    "counter = collections.Counter(kmeans.labels_)\n",
    "print(counter)\n"
   ],
   "metadata": {
    "collapsed": false,
    "ExecuteTime": {
     "end_time": "2024-04-17T10:04:32.908524Z",
     "start_time": "2024-04-17T10:04:32.881649Z"
    }
   }
  },
  {
   "cell_type": "code",
   "execution_count": 2,
   "outputs": [
    {
     "name": "stdout",
     "output_type": "stream",
     "text": [
      "0.1620290859304611 1.955186170212766 1\n",
      "0.056589137030375804 3.63463131154957 1\n",
      "0.019496092521382728 5.456461202679311 1\n"
     ]
    }
   ],
   "source": [
    "from scipy.stats import chi2_contingency\n",
    "\n",
    "# more improving participants?\n",
    "\n",
    "#37/58, 33/58, 31/58 improving participants, that is their score improved (Mann Kendall test statistic > 0)\n",
    "#101 out of 174 participants improved\n",
    "\n",
    "data = [[101, 73], [87, 87]]\n",
    "chi, p, dof, _ = chi2_contingency(data)\n",
    "print(p, chi, dof)\n",
    "\n",
    "# if a change takes place, there are more improvements\n",
    "# 142/232, 163/311, 100/192 improved changes\n",
    "# 405 out of 735 changes\n",
    "data = [[405, 330], [367.5, 367.5]]\n",
    "chi, p, dof, _ = chi2_contingency(data)\n",
    "print(p, chi, dof)\n",
    "\n",
    "data = [[142, 90], [116, 116]]\n",
    "chi, p, dof, _ = chi2_contingency(data)\n",
    "print(p, chi, dof)"
   ],
   "metadata": {
    "collapsed": false
   }
  },
  {
   "cell_type": "code",
   "execution_count": 6,
   "outputs": [
    {
     "name": "stdout",
     "output_type": "stream",
     "text": [
      "0.05220837062644049 3.7690790573290993 1\n",
      "0.0001206424667524036 14.78261729371632 1\n",
      "0.0025782874394692386 9.084189346605951 1\n",
      "0.07339431558465395 3.2054277286135697 1\n",
      "0.14729913862267172 2.1 1\n"
     ]
    }
   ],
   "source": [
    "# how many participants' expected strategy score increased again did not increase\n",
    "# 41, out of 58 (0.7068965517241379) improved\n",
    "# 33, out of 58 (0.5689655172413793) improved\n",
    "# 32, out of 58 (0.5517241379310345) improved\n",
    "\n",
    "# 106 out of 174 improved\n",
    "from scipy.stats import chi2_contingency\n",
    "data = [[106, 68], [87, 87]]\n",
    "chi, p, dof, _ = chi2_contingency(data)\n",
    "print(p, chi, dof)\n",
    "\n",
    "# how many participants' expected strategy score increased against got worse (Mann Kendall >0 vs <0)\n",
    "# 41, out of 51 (0.7069) improved\n",
    "# 33, out of 47 (0.5690) improved\n",
    "# 32, out of 48 (0.5517) improved\n",
    "# 106 improved out of 146 improved, 40 got worse\n",
    "data = [[106, 40], [73, 73]]\n",
    "chi, p, dof, _ = chi2_contingency(data)\n",
    "print(p, chi, dof)\n",
    "\n",
    "\n",
    "data = [[41, 10], [25.5, 25.5]]\n",
    "chi, p, dof, _ = chi2_contingency(data)\n",
    "print(p, chi, dof)\n",
    "\n",
    "data = [[33, 14], [23.5, 23.5]]\n",
    "chi, p, dof, _ = chi2_contingency(data)\n",
    "print(p, chi, dof)\n",
    "\n",
    "data = [[32, 16], [24, 24]]\n",
    "chi, p, dof, _ = chi2_contingency(data)\n",
    "print(p, chi, dof)"
   ],
   "metadata": {
    "collapsed": false
   }
  },
  {
   "cell_type": "code",
   "execution_count": 7,
   "outputs": [
    {
     "name": "stdout",
     "output_type": "stream",
     "text": [
      "1.8890247219246896e-06 22.70472829922371 1\n",
      "0.0018860720611913705 9.657235772357724 1\n",
      "0.007117513676398799 7.243071041733037 1\n",
      "0.03681377524991715 4.359006211180125 1\n"
     ]
    }
   ],
   "source": [
    "# how many participants switched their strategy type more than once\n",
    "\n",
    "# 46 participants out of 58 (0.7931034482758621) changed their strategy more than once.\n",
    "# 44 participants out of 58 (0.7586206896551724) changed their strategy more than once.\n",
    "# 41 participants out of 58 (0.7068965517241379) changed their strategy more than once.\n",
    "\n",
    "# 131 out of 174\n",
    "from scipy.stats import chi2_contingency\n",
    "data = [[131, 43], [87, 87]]\n",
    "chi, p, dof, _ = chi2_contingency(data)\n",
    "print(p, chi, dof)\n",
    "\n",
    "data = [[46, 12], [29, 29]]\n",
    "chi, p, dof, _ = chi2_contingency(data)\n",
    "print(p, chi, dof)\n",
    "\n",
    "data = [[44, 14], [29, 29]]\n",
    "chi, p, dof, _ = chi2_contingency(data)\n",
    "print(p, chi, dof)\n",
    "\n",
    "data = [[41, 17], [29, 29]]\n",
    "chi, p, dof, _ = chi2_contingency(data)\n",
    "print(p, chi, dof)"
   ],
   "metadata": {
    "collapsed": false
   }
  },
  {
   "cell_type": "code",
   "execution_count": 8,
   "outputs": [
    {
     "name": "stdout",
     "output_type": "stream",
     "text": [
      "0.046700809733463196 3.956135172205626 1\n",
      "0.019496092521382728 5.456461202679311 1\n",
      "0.5325042685883556 0.38961038961038963 1\n",
      "0.7594122604700464 0.0937907077724707 1\n"
     ]
    }
   ],
   "source": [
    "# if a change takes place, it is beneficial vs got worse (>0 vs <0, excluding =0), filtered for participants who did not start with the adpative strategy\n",
    "# out of 232 strategy pairs, 142 (61.206896551724135) pairs expected score improved.\n",
    "# out of 289 strategy pairs, 153 (52.41157556270096) pairs expected score improved.\n",
    "# out of 192 strategy pairs, 100 (52.083333333333336) pairs expected score improved.\n",
    "\n",
    "# 395 improvements out of 713 changes in total\n",
    "from scipy.stats import chi2_contingency\n",
    "data = [[395, 318], [356.5, 356.5]]\n",
    "chi, p, dof, _ = chi2_contingency(data)\n",
    "print(p, chi, dof)\n",
    "\n",
    "data = [[142, 90], [116, 116]]\n",
    "chi, p, dof, _ = chi2_contingency(data)\n",
    "print(p, chi, dof)\n",
    "\n",
    "data = [[153, 136], [144.5, 144.5]]\n",
    "chi, p, dof, _ = chi2_contingency(data)\n",
    "print(p, chi, dof)\n",
    "\n",
    "data = [[100, 92], [96, 96]]\n",
    "chi, p, dof, _ = chi2_contingency(data)\n",
    "print(p, chi, dof)"
   ],
   "metadata": {
    "collapsed": false
   }
  },
  {
   "cell_type": "code",
   "execution_count": null,
   "outputs": [],
   "source": [
    "\n",
    "\n",
    "\n"
   ],
   "metadata": {
    "collapsed": false
   }
  }
 ],
 "metadata": {
  "kernelspec": {
   "display_name": "Python 3",
   "language": "python",
   "name": "python3"
  },
  "language_info": {
   "codemirror_mode": {
    "name": "ipython",
    "version": 2
   },
   "file_extension": ".py",
   "mimetype": "text/x-python",
   "name": "python",
   "nbconvert_exporter": "python",
   "pygments_lexer": "ipython2",
   "version": "2.7.6"
  }
 },
 "nbformat": 4,
 "nbformat_minor": 0
}
