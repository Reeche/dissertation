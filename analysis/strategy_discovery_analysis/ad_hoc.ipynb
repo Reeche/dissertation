{
 "cells": [
  {
   "cell_type": "markdown",
   "source": [
    "## Group participants into adaptive, maladaptive and others using kmeans\n"
   ],
   "metadata": {
    "collapsed": false
   },
   "id": "443f83e166cae3a7"
  },
  {
   "cell_type": "code",
   "execution_count": 21,
   "outputs": [],
   "source": [
    "from sklearn.cluster import KMeans\n",
    "import pandas as pd\n",
    "\n",
    "from vars import clicked_pid"
   ],
   "metadata": {
    "collapsed": false,
    "ExecuteTime": {
     "end_time": "2024-08-31T14:07:14.655545Z",
     "start_time": "2024-08-31T14:07:14.645120Z"
    }
   },
   "id": "733a14ecca33251f"
  },
  {
   "cell_type": "markdown",
   "source": [
    "## Cluster them according to the bonus they received"
   ],
   "metadata": {
    "collapsed": false
   },
   "id": "294d743e0c1a8fad"
  },
  {
   "cell_type": "code",
   "execution_count": 30,
   "outputs": [],
   "source": [
    "# load data from data/human/strategy_discovery/participants.csv\n",
    "df = pd.read_csv('../../data/human/strategy_discovery/participants.csv')\n",
    "\n",
    "# filter for participants who clicked anything at all using the clicked_pid list\n",
    "df = df[df.pid.isin(clicked_pid)]\n",
    "\n",
    "# group participants according to the bonus they received\n",
    "X = df[['bonus']].values"
   ],
   "metadata": {
    "collapsed": false,
    "ExecuteTime": {
     "end_time": "2024-08-16T10:32:51.378460Z",
     "start_time": "2024-08-16T10:32:51.349228Z"
    }
   },
   "id": "c942c78185688960"
  },
  {
   "cell_type": "code",
   "execution_count": 74,
   "outputs": [
    {
     "name": "stderr",
     "output_type": "stream",
     "text": [
      "/Users/rhe/PycharmProjects/mcl_toolbox/venv3.10/lib/python3.10/site-packages/sklearn/cluster/_kmeans.py:1412: FutureWarning: The default value of `n_init` will change from 10 to 'auto' in 1.4. Set the value of `n_init` explicitly to suppress the warning\n",
      "  super()._check_params_vs_input(X, default_n_init=10)\n"
     ]
    },
    {
     "data": {
      "text/plain": "[2,\n 28,\n 32,\n 35,\n 36,\n 38,\n 39,\n 48,\n 59,\n 63,\n 75,\n 82,\n 89,\n 92,\n 95,\n 105,\n 115,\n 125,\n 151,\n 154,\n 166,\n 172,\n 173,\n 175,\n 195,\n 196,\n 203,\n 205,\n 215,\n 234,\n 239,\n 259,\n 261,\n 271,\n 281,\n 289,\n 294,\n 312,\n 318,\n 320,\n 327,\n 344,\n 352,\n 353,\n 354,\n 360,\n 378]"
     },
     "execution_count": 74,
     "metadata": {},
     "output_type": "execute_result"
    }
   ],
   "source": [
    "kmeans = KMeans(n_clusters=2, max_iter=100000).fit(X)\n",
    "kmeans.labels_\n",
    "\n",
    "# give the pid of the participants in each group\n",
    "df['group'] = kmeans.labels_\n",
    "\n",
    "# show complete list pid of each group without truncation\n",
    "df.groupby('group').pid.apply(lambda x: x.tolist())[1]\n",
    "\n"
   ],
   "metadata": {
    "collapsed": false,
    "ExecuteTime": {
     "end_time": "2024-08-16T12:08:47.347501Z",
     "start_time": "2024-08-16T12:08:47.309256Z"
    }
   },
   "id": "e3220a821efac3ce"
  },
  {
   "cell_type": "code",
   "execution_count": 72,
   "outputs": [
    {
     "data": {
      "text/plain": "group\n0    0.065133\n1    3.293191\nName: bonus, dtype: float64"
     },
     "execution_count": 72,
     "metadata": {},
     "output_type": "execute_result"
    }
   ],
   "source": [
    "# mean the mean of bonus for each group\n",
    "df.groupby('group').bonus.mean()"
   ],
   "metadata": {
    "collapsed": false,
    "ExecuteTime": {
     "end_time": "2024-08-16T12:07:59.816013Z",
     "start_time": "2024-08-16T12:07:59.807101Z"
    }
   },
   "id": "468f4f3a97c2261a"
  },
  {
   "cell_type": "markdown",
   "source": [
    "## Cluster them according to their score"
   ],
   "metadata": {
    "collapsed": false
   },
   "id": "628a561ce2590acf"
  },
  {
   "cell_type": "code",
   "execution_count": 29,
   "outputs": [
    {
     "name": "stderr",
     "output_type": "stream",
     "text": [
      "/Users/rhe/PycharmProjects/mcl_toolbox/venv3.10/lib/python3.10/site-packages/sklearn/cluster/_kmeans.py:1412: FutureWarning: The default value of `n_init` will change from 10 to 'auto' in 1.4. Set the value of `n_init` explicitly to suppress the warning\n",
      "  super()._check_params_vs_input(X, default_n_init=10)\n"
     ]
    }
   ],
   "source": [
    "# group participants into adaptive, mod, maladaptive according to their score\n",
    "# load data from data/human/strategy_discovery/mouselab-mdp.csv\n",
    "df = pd.read_csv('../../data/human/strategy_discovery/mouselab-mdp.csv')\n",
    "\n",
    "# filter for participants who clicked anything at all using the clicked_pid list\n",
    "df = df[df.pid.isin(clicked_pid)]\n",
    "\n",
    "## only use trials 60 - 120\n",
    "#df = df[(df.trial_index > 60) & (df.trial_index <= 120)]\n",
    "\n",
    "# for each unique pid, calculate their average score and create a new list with unique pid and their average score\n",
    "df = df.groupby('pid').score.mean().reset_index()\n",
    "\n",
    "\n",
    "# group participants according to the score they received\n",
    "X = df[['score']].values\n",
    "\n",
    "kmeans = KMeans(n_clusters=3, max_iter=100000).fit(X)\n",
    "kmeans.labels_\n",
    "\n",
    "# give the pid of the participants in each group\n",
    "df['group'] = kmeans.labels_\n",
    "\n",
    "# save as csv\n",
    "# df.to_csv('score_grouped.csv', index=False)"
   ],
   "metadata": {
    "collapsed": false,
    "ExecuteTime": {
     "end_time": "2024-08-31T14:52:51.794808Z",
     "start_time": "2024-08-31T14:52:51.554861Z"
    }
   },
   "id": "6e7ba9b9c7b94518"
  },
  {
   "cell_type": "code",
   "execution_count": 30,
   "outputs": [
    {
     "data": {
      "text/plain": "group\n0   -20.454380\n1     5.502627\n2    -8.819320\nName: score, dtype: float64"
     },
     "execution_count": 30,
     "metadata": {},
     "output_type": "execute_result"
    }
   ],
   "source": [
    "# mean the mean of score for each group\n",
    "df.groupby('group').score.mean()"
   ],
   "metadata": {
    "collapsed": false,
    "ExecuteTime": {
     "end_time": "2024-08-31T14:52:54.113039Z",
     "start_time": "2024-08-31T14:52:54.098891Z"
    }
   },
   "id": "deb263b28152c969"
  },
  {
   "cell_type": "code",
   "execution_count": 31,
   "outputs": [
    {
     "data": {
      "text/plain": "[2,\n 6,\n 11,\n 17,\n 28,\n 29,\n 32,\n 35,\n 36,\n 38,\n 39,\n 48,\n 49,\n 53,\n 55,\n 59,\n 63,\n 70,\n 74,\n 75,\n 79,\n 82,\n 84,\n 86,\n 89,\n 92,\n 95,\n 103,\n 105,\n 109,\n 111,\n 112,\n 115,\n 118,\n 125,\n 147,\n 151,\n 154,\n 165,\n 166,\n 171,\n 172,\n 173,\n 174,\n 175,\n 181,\n 186,\n 193,\n 195,\n 196,\n 200,\n 202,\n 203,\n 205,\n 214,\n 215,\n 224,\n 234,\n 239,\n 241,\n 249,\n 251,\n 256,\n 259,\n 260,\n 261,\n 265,\n 271,\n 279,\n 281,\n 282,\n 289,\n 294,\n 300,\n 312,\n 316,\n 318,\n 320,\n 323,\n 327,\n 335,\n 339,\n 340,\n 344,\n 352,\n 353,\n 354,\n 357,\n 359,\n 360,\n 369,\n 378]"
     },
     "execution_count": 31,
     "metadata": {},
     "output_type": "execute_result"
    }
   ],
   "source": [
    "# show all the unique pid in group 1\n",
    "df.groupby('group').pid.apply(lambda x: x.tolist())[2]"
   ],
   "metadata": {
    "collapsed": false,
    "ExecuteTime": {
     "end_time": "2024-08-31T14:53:01.329276Z",
     "start_time": "2024-08-31T14:53:01.310548Z"
    }
   },
   "id": "8352755282350703"
  },
  {
   "cell_type": "code",
   "execution_count": 33,
   "outputs": [
    {
     "data": {
      "text/plain": "179"
     },
     "execution_count": 33,
     "metadata": {},
     "output_type": "execute_result"
    }
   ],
   "source": [
    "len(df.groupby('group').pid.apply(lambda x: x.tolist())[2])"
   ],
   "metadata": {
    "collapsed": false,
    "ExecuteTime": {
     "end_time": "2024-08-31T14:54:35.051058Z",
     "start_time": "2024-08-31T14:54:35.040205Z"
    }
   },
   "id": "62f7a74c69451a1a"
  },
  {
   "cell_type": "markdown",
   "source": [
    "## How many people actually found the optimal strategy? "
   ],
   "metadata": {
    "collapsed": false
   },
   "id": "12fe5bd0aa5e7f4c"
  },
  {
   "cell_type": "code",
   "execution_count": 4,
   "outputs": [
    {
     "name": "stdout",
     "output_type": "stream",
     "text": [
      "172\n",
      "[  2   8  13  14  20  22  26  28  30  32  33  34  35  36  37  38  39  41\n",
      "  42  48  49  53  55  56  57  58  59  61  62  63  66  69  70  72  74  75\n",
      "  78  82  83  84  85  86  87  89  90  92  95 104 105 109 111 112 115 117\n",
      " 118 119 122 125 128 130 136 137 140 141 147 151 152 153 154 155 162 165\n",
      " 166 168 169 171 172 173 174 175 176 181 182 183 184 186 192 193 194 195\n",
      " 196 200 202 203 205 209 210 212 213 215 216 220 223 224 225 234 239 240\n",
      " 246 249 251 252 254 256 259 260 261 265 267 269 271 272 274 276 277 278\n",
      " 279 281 282 285 286 289 290 291 292 293 294 303 304 311 312 314 315 316\n",
      " 317 318 320 321 323 324 325 327 328 336 339 340 342 343 344 346 352 353\n",
      " 354 357 358 359 360 369 371 373 374 378]\n"
     ]
    }
   ],
   "source": [
    "df = pd.read_csv('../../data/human/strategy_discovery/mouselab-mdp.csv')\n",
    "# filter for participants who clicked anything at all using the clicked_pid list\n",
    "df = df[df.pid.isin(clicked_pid)]\n",
    "\n",
    "# filter for participants whose score was 13, 14 or 15 at least once\n",
    "df_optimal = df[(df.score == 13) | (df.score == 14) | (df.score == 15)]\n",
    "print(len(df_optimal.pid.unique()))\n",
    "print(df_optimal.pid.unique())"
   ],
   "metadata": {
    "collapsed": false,
    "ExecuteTime": {
     "end_time": "2024-08-30T10:20:14.242029Z",
     "start_time": "2024-08-30T10:20:14.014586Z"
    }
   },
   "id": "726e944ea8d3d30a"
  },
  {
   "cell_type": "code",
   "execution_count": 15,
   "outputs": [
    {
     "name": "stdout",
     "output_type": "stream",
     "text": [
      "150\n",
      "[  2   8  13  14  20  26  28  30  32  33  34  35  36  37  38  39  41  48\n",
      "  49  53  55  56  57  59  61  62  63  70  72  74  75  78  82  83  84  85\n",
      "  86  87  89  90  92  95 104 105 109 111 112 115 117 118 122 125 130 140\n",
      " 141 147 151 152 154 162 165 166 168 169 171 172 173 175 176 181 182 183\n",
      " 184 186 193 194 195 196 200 202 203 205 209 210 212 213 215 216 220 223\n",
      " 224 225 234 239 240 246 249 251 252 254 256 259 260 261 265 267 269 271\n",
      " 274 276 277 279 281 282 285 289 290 291 292 294 303 304 312 316 317 318\n",
      " 320 321 323 325 327 328 336 339 340 342 343 344 352 353 354 357 358 359\n",
      " 360 369 371 373 374 378]\n"
     ]
    }
   ],
   "source": [
    "# filter for participants whose score was 13, 14 or 15 at least twice\n",
    "df_optimal = df[(df.score == 13) | (df.score == 14) | (df.score == 15)]\n",
    "df_optimal = df_optimal.groupby('pid').score.count().reset_index()\n",
    "df_optimal = df_optimal[df_optimal.score >= 2]\n",
    "print(len(df_optimal.pid.unique()))\n",
    "print(df_optimal.pid.unique())"
   ],
   "metadata": {
    "collapsed": false,
    "ExecuteTime": {
     "end_time": "2024-08-30T10:53:39.703768Z",
     "start_time": "2024-08-30T10:53:39.662192Z"
    }
   },
   "id": "973ac084a28750a2"
  },
  {
   "cell_type": "code",
   "execution_count": 16,
   "outputs": [
    {
     "name": "stdout",
     "output_type": "stream",
     "text": [
      "MB 20\n",
      "0.13333333333333333\n",
      "MF 34\n",
      "0.22666666666666666\n",
      "hybrid 42\n",
      "0.28\n",
      "Habitual 54\n",
      "0.36\n"
     ]
    }
   ],
   "source": [
    "from vars import mf_pid, hybrid_pid, habitual_pid\n",
    "\n",
    "# check for overlap between df_optimal (who found the optimal strategy) and mb_pid \n",
    "overlap_mb = set(df_optimal.pid.unique()).intersection(mb_pid)\n",
    "print(\"MB\", len(overlap_mb))\n",
    "print(len(overlap_mb) / len(df_optimal.pid.unique()))\n",
    "\n",
    "# check for overlap between df_optimal and mf_pid\n",
    "overlap_mf = set(df_optimal.pid.unique()).intersection(mf_pid)\n",
    "print(\"MF\", len(overlap_mf))\n",
    "print(len(overlap_mf) / len(df_optimal.pid.unique()))\n",
    "\n",
    "# check for overlap between df_optimal and hybrid_pid\n",
    "overlap_hybrid = set(df_optimal.pid.unique()).intersection(hybrid_pid)\n",
    "print(\"hybrid\", len(overlap_hybrid))\n",
    "print(len(overlap_hybrid) / len(df_optimal.pid.unique()))\n",
    "\n",
    "# check for overlap between df_optimal and habitual_pid\n",
    "overlap_habitual = set(df_optimal.pid.unique()).intersection(habitual_pid)\n",
    "print(\"Habitual\", len(overlap_habitual))\n",
    "print(len(overlap_habitual) / len(df_optimal.pid.unique()))\n"
   ],
   "metadata": {
    "collapsed": false,
    "ExecuteTime": {
     "end_time": "2024-08-30T10:53:41.821167Z",
     "start_time": "2024-08-30T10:53:41.804255Z"
    }
   },
   "id": "4e26d0f40cdc8495"
  },
  {
   "cell_type": "code",
   "execution_count": 17,
   "outputs": [
    {
     "name": "stdout",
     "output_type": "stream",
     "text": [
      "53.80769230769231\n",
      "29.54054054054054\n",
      "31.20408163265306\n",
      "28.45\n"
     ]
    }
   ],
   "source": [
    "# look at which trial the participant first achieved the optimal score\n",
    "\n",
    "# calculate the average at which mb_pid first achieved the optimal score\n",
    "df_mb = df[df.pid.isin(mb_pid)]\n",
    "df_mb = df_mb[(df_mb.score == 13) | (df_mb.score == 14) | (df_mb.score == 15)]\n",
    "df_mb = df_mb.groupby('pid').trial_index.min().reset_index()\n",
    "df_mb = df_mb[df_mb.pid.isin(mb_pid)]\n",
    "print(df_mb.trial_index.mean())\n",
    "\n",
    "# calculate the average at which mf_pid first achieved the optimal score\n",
    "df_mf = df[df.pid.isin(mf_pid)]\n",
    "df_mf = df_mf[(df_mf.score == 13) | (df_mf.score == 14) | (df_mf.score == 15)]\n",
    "df_mf = df_mf.groupby('pid').trial_index.min().reset_index()\n",
    "df_mf = df_mf[df_mf.pid.isin(mf_pid)]\n",
    "print(df_mf.trial_index.mean())\n",
    "\n",
    "# calculate the average at which hybrid_pid first achieved the optimal score\n",
    "df_hybrid = df[df.pid.isin(hybrid_pid)]\n",
    "df_hybrid = df_hybrid[(df_hybrid.score == 13) | (df_hybrid.score == 14) | (df_hybrid.score == 15)]\n",
    "df_hybrid = df_hybrid.groupby('pid').trial_index.min().reset_index()\n",
    "df_hybrid = df_hybrid[df_hybrid.pid.isin(hybrid_pid)]\n",
    "print(df_hybrid.trial_index.mean())\n",
    "\n",
    "# calculate the average at which habitual_pid first achieved the optimal score\n",
    "df_habitual = df[df.pid.isin(habitual_pid)]\n",
    "df_habitual = df_habitual[(df_habitual.score == 13) | (df_habitual.score == 14) | (df_habitual.score == 15)]\n",
    "df_habitual = df_habitual.groupby('pid').trial_index.min().reset_index()\n",
    "df_habitual = df_habitual[df_habitual.pid.isin(habitual_pid)]\n",
    "print(df_habitual.trial_index.mean())\n"
   ],
   "metadata": {
    "collapsed": false,
    "ExecuteTime": {
     "end_time": "2024-08-30T10:54:32.626192Z",
     "start_time": "2024-08-30T10:54:32.580896Z"
    }
   },
   "id": "22ffd84e387560b2"
  },
  {
   "cell_type": "markdown",
   "source": [
    "## Divide the habitual participants into very adaptive, adaptive and maladaptive by using kmeans on the score\n"
   ],
   "metadata": {
    "collapsed": false
   },
   "id": "b818d8ebd76194f5"
  },
  {
   "cell_type": "code",
   "execution_count": 35,
   "outputs": [
    {
     "name": "stdout",
     "output_type": "stream",
     "text": [
      "group\n",
      "0   -14.605891\n",
      "1     4.343798\n",
      "2   -50.625000\n",
      "Name: score, dtype: float64\n"
     ]
    },
    {
     "name": "stderr",
     "output_type": "stream",
     "text": [
      "/Users/rhe/PycharmProjects/mcl_toolbox/venv3.10/lib/python3.10/site-packages/sklearn/cluster/_kmeans.py:1412: FutureWarning: The default value of `n_init` will change from 10 to 'auto' in 1.4. Set the value of `n_init` explicitly to suppress the warning\n",
      "  super()._check_params_vs_input(X, default_n_init=10)\n"
     ]
    }
   ],
   "source": [
    "import matplotlib.pyplot as plt\n",
    "habitual_pid = [1, 10, 11, 14, 20, 22, 25, 26, 27, 29, 33, 36, 37, 38, 39, 40, 46, 50, 51, 52, 55, 56, 59, 65, 70, 72,\n",
    "                89, 90, 95, 98, 101, 111, 115, 118, 119, 125, 129, 134, 135, 140, 142, 148, 151, 152, 154, 162, 170,\n",
    "                180, 186, 192, 193, 196, 202, 204, 205, 209, 210, 214, 215, 217, 234, 235, 237, 239, 240, 241, 249, 253,\n",
    "                254, 256, 257, 265, 268, 271, 275, 276, 277, 278, 282, 289, 300, 304, 308, 311, 312, 313, 315, 321, 322,\n",
    "                323, 329, 330, 331, 332, 336, 339, 343, 348, 354, 358, 363, 364, 370]\n",
    "\n",
    "mfhybrid_pid = [2, 8, 24, 28, 43, 48, 49, 54, 62, 68, 73, 75, 77, 80, 85, 91, 93, 96, 99, 102, 107, 109, 110, 113, 116, 117,\n",
    "          120, 122, 123, 124, 126, 131, 137, 145, 147, 149, 153, 156, 159, 166, 169, 171, 172, 178, 181, 183, 185, 187,\n",
    "          190, 199, 200, 207, 212, 213, 220, 221, 226, 229, 233, 242, 244, 246, 247, 252, 261, 263, 266, 274, 279, 286,\n",
    "          287, 294, 295, 296, 306, 309, 319, 333, 337, 340, 342, 352, 353, 365, 367, 369, 372, 376, 378, 3, 4, 6, 7, 9, 16, 17, 18, 19, 23, 30, 32, 34, 35, 41, 45, 53, 57, 58, 63, 67, 71, 76, 78, 82, 83, 86, 92,\n",
    "              106, 128, 133, 138, 139, 141, 143, 146, 155, 161, 164, 165, 167, 173, 174, 175, 177, 184, 189, 194, 195,\n",
    "              201, 203, 206, 211, 216, 218, 219, 223, 228, 231, 232, 236, 238, 250, 255, 259, 260, 262, 267, 280, 281,\n",
    "              291, 292, 293, 299, 305, 310, 316, 317, 318, 320, 324, 327, 328, 341, 344, 346, 347, 349, 350, 355, 356,\n",
    "              357, 359, 360, 361, 362, 371, 373, 374, 375, 377]\n",
    "\n",
    "# for these participants, use kmeans to group them according to their score\n",
    "df = pd.read_csv('../../data/human/strategy_discovery/mouselab-mdp.csv')\n",
    "df = df[df.pid.isin(habitual_pid)]\n",
    "df = df.groupby('pid').score.mean().reset_index()\n",
    "\n",
    "# use kmeans to group the participants\n",
    "X = df[['score']].values\n",
    "kmeans = KMeans(n_clusters=3, max_iter=100000).fit(X)\n",
    "\n",
    "# show the average score of each group\n",
    "df['group'] = kmeans.labels_\n",
    "df.groupby('group').score.mean()\n",
    "\n",
    "# show the id of the participants in each group\n",
    "df.groupby('group').pid.apply(lambda x: x.tolist())\n",
    "\n",
    "# show the mean of the score of each group\n",
    "print(df.groupby('group').score.mean())\n"
   ],
   "metadata": {
    "collapsed": false,
    "ExecuteTime": {
     "end_time": "2024-08-31T14:59:37.859083Z",
     "start_time": "2024-08-31T14:59:37.639976Z"
    }
   },
   "id": "81b20ed15c8c1983"
  },
  {
   "cell_type": "code",
   "execution_count": 36,
   "outputs": [
    {
     "name": "stdout",
     "output_type": "stream",
     "text": [
      "58\n",
      "43\n",
      "2\n"
     ]
    }
   ],
   "source": [
    "# show len of each group\n",
    "print(len(df[df.group == 0]))\n",
    "print(len(df[df.group == 1]))\n",
    "print(len(df[df.group == 2]))"
   ],
   "metadata": {
    "collapsed": false,
    "ExecuteTime": {
     "end_time": "2024-08-31T15:00:11.132391Z",
     "start_time": "2024-08-31T15:00:11.107963Z"
    }
   },
   "id": "816e2822739e3628"
  },
  {
   "cell_type": "code",
   "execution_count": null,
   "outputs": [],
   "source": [
    "df_adaptive = df[df.group == 0].pid.tolist()\n",
    "df_modadaptive = df[df.group == 1].pid.tolist()\n",
    "df_maladaptive = df[df.group == 2].pid.tolist()"
   ],
   "metadata": {
    "collapsed": false
   },
   "id": "4fb95c74b386dc69"
  },
  {
   "cell_type": "code",
   "execution_count": null,
   "outputs": [],
   "source": [
    "\n",
    "####\n",
    "df = pd.read_csv('../../data/human/strategy_discovery/mouselab-mdp.csv')\n",
    "df_adaptive_ = df[df.pid.isin(df_adaptive)]\n",
    "df_modadaptive_ = df[df.pid.isin(df_modadaptive)]\n",
    "df_maladaptive_ = df[df.pid.isin(df_maladaptive)]\n",
    "\n",
    "df_adaptive_ = df_adaptive_.groupby('trial_index').score.mean().reset_index()\n",
    "plt.plot(df_adaptive_['trial_index'], df_adaptive_['score'], label=f'Adaptive, n={len(df_adaptive)}', color='blue')\n",
    "\n",
    "df_modadaptive_ = df_modadaptive_.groupby('trial_index').score.mean().reset_index()\n",
    "plt.plot(df_modadaptive_['trial_index'], df_modadaptive_['score'], label=f'Mod adaptive, n={len(df_modadaptive)}', color='green')\n",
    "\n",
    "# df_maladaptive_ = df_maladaptive_.groupby('trial_index').score.mean().reset_index()\n",
    "# plt.plot(df_maladaptive_['trial_index'], df_maladaptive_['score'], label=f'Maladaptive, n={len(df_maladaptive)}', color='red')\n",
    "\n",
    "plt.ylim(-80, 20)\n",
    "plt.legend()\n",
    "plt.show()\n",
    "plt.close()\n"
   ],
   "metadata": {
    "collapsed": false
   },
   "id": "e0d006f6defdf4a3"
  },
  {
   "cell_type": "markdown",
   "source": [
    "## Check how many participants who clicked everything in the first trial are best explained by the habitual model"
   ],
   "metadata": {
    "collapsed": false
   },
   "id": "409251b8ab49ca67"
  },
  {
   "cell_type": "code",
   "execution_count": 9,
   "outputs": [
    {
     "name": "stdout",
     "output_type": "stream",
     "text": [
      "{1, 129, 257, 135, 142, 20, 148, 22, 151, 276, 282, 50, 313, 331, 332, 210, 343, 88, 358, 234, 363, 111, 370}\n"
     ]
    }
   ],
   "source": [
    "from vars import examined_all_pid, habitual_pid\n",
    "\n",
    "# check for overlap between those two lists\n",
    "overlap = set(habitual_pid).intersection(examined_all_pid)\n",
    "print(overlap)"
   ],
   "metadata": {
    "collapsed": false,
    "ExecuteTime": {
     "end_time": "2024-09-12T13:43:54.836031Z",
     "start_time": "2024-09-12T13:43:54.820328Z"
    }
   },
   "id": "aea1f24728ed1e63"
  },
  {
   "cell_type": "code",
   "execution_count": 5,
   "outputs": [
    {
     "name": "stdout",
     "output_type": "stream",
     "text": [
      "{256, 265, 10, 11, 12, 268, 14, 15, 271, 273, 275, 277, 278, 25, 26, 27, 29, 285, 288, 33, 289, 290, 36, 37, 38, 39, 40, 42, 298, 300, 46, 47, 304, 51, 52, 308, 55, 56, 311, 312, 59, 61, 315, 65, 321, 322, 323, 70, 326, 72, 329, 330, 336, 339, 89, 90, 348, 95, 351, 98, 354, 101, 103, 364, 115, 118, 119, 125, 130, 134, 140, 144, 152, 154, 162, 170, 180, 182, 186, 192, 193, 196, 202, 204, 205, 209, 214, 215, 217, 224, 235, 237, 239, 240, 241, 249, 253, 254}\n"
     ]
    }
   ],
   "source": [
    "# get list of people who are not in the habitual list\n",
    "not_habitual = set(habitual_pid).difference(examined_all_pid)\n",
    "print(not_habitual)"
   ],
   "metadata": {
    "collapsed": false,
    "ExecuteTime": {
     "end_time": "2024-09-12T13:32:49.025695Z",
     "start_time": "2024-09-12T13:32:49.006584Z"
    }
   },
   "id": "3b0b1b6f0ae1c5cd"
  },
  {
   "cell_type": "code",
   "execution_count": 1,
   "outputs": [
    {
     "name": "stdout",
     "output_type": "stream",
     "text": [
      "{3, 4, 5, 6, 7, 8, 9, 10, 11, 12, 13, 14, 15, 16, 17, 18, 19, 21, 23, 25, 26, 27, 28, 29, 30, 32, 33, 34, 35, 36, 37, 38, 39, 40, 41, 42, 43, 44, 46, 47, 48, 49, 51, 52, 53, 54, 55, 56, 57, 58, 59, 61, 62, 63, 65, 66, 67, 69, 70, 71, 72, 73, 74, 75, 76, 77, 78, 79, 81, 82, 83, 84, 85, 86, 87, 89, 90, 91, 92, 93, 95, 96, 98, 99, 101, 102, 103, 104, 105, 106, 107, 109, 110, 112, 113, 115, 116, 117, 118, 119, 120, 122, 123, 124, 125, 126, 127, 128, 130, 131, 133, 134, 136, 137, 138, 139, 140, 141, 143, 144, 145, 146, 147, 149, 152, 153, 154, 155, 156, 159, 160, 161, 162, 163, 165, 167, 168, 169, 170, 171, 173, 174, 175, 176, 177, 178, 180, 181, 182, 183, 184, 185, 186, 187, 190, 192, 193, 194, 195, 196, 197, 198, 199, 200, 201, 202, 203, 204, 205, 206, 207, 209, 211, 212, 214, 215, 216, 217, 218, 219, 220, 221, 223, 224, 225, 226, 229, 231, 232, 233, 235, 236, 237, 238, 239, 240, 241, 242, 244, 246, 247, 248, 249, 250, 251, 252, 253, 254, 255, 256, 258, 259, 260, 261, 262, 263, 265, 266, 267, 268, 269, 270, 271, 272, 273, 274, 275, 277, 278, 279, 280, 281, 283, 284, 285, 286, 287, 288, 289, 290, 291, 292, 293, 294, 295, 296, 298, 299, 300, 301, 302, 303, 304, 305, 306, 308, 309, 310, 311, 312, 314, 315, 316, 317, 318, 319, 320, 321, 322, 323, 325, 326, 327, 328, 329, 330, 333, 335, 336, 337, 339, 341, 342, 345, 346, 347, 348, 349, 350, 351, 352, 353, 354, 355, 356, 357, 359, 360, 361, 362, 364, 365, 367, 369, 371, 373, 374, 375, 376, 377, 378, 379}\n"
     ]
    }
   ],
   "source": [
    "clicked = [1, 2, 3, 4, 5, 6, 7, 8, 9, 10, 11, 12, 13, 14, 15, 16, 17, 18, 19, 20, 21, 22, 23, 24, 25, 26, 27, 28,\n",
    "               29, 30, 32, 33, 34, 35, 36, 37, 38, 39, 40, 41, 42, 43, 44, 45, 46, 47, 48, 49, 50, 51, 52, 53, 54, 55,\n",
    "               56, 57, 58, 59, 61, 62, 63, 65, 66, 67, 68, 69, 70, 71, 72, 73, 74, 75, 76, 77, 78, 79, 80, 81, 82, 83,\n",
    "               84, 85, 86, 87, 88, 89, 90, 91, 92, 93, 95, 96, 98, 99, 101, 102, 103, 104, 105, 106, 107, 109, 110, 111,\n",
    "               112, 113, 115, 116, 117, 118, 119, 120, 122, 123, 124, 125, 126, 127, 128, 129, 130, 131, 133, 134, 135,\n",
    "               136, 137, 138, 139, 140, 141, 142, 143, 144, 145, 146, 147, 148, 149, 151, 152, 153, 154, 155, 156, 159,\n",
    "               160, 161, 162, 163, 164, 165, 166, 167, 168, 169, 170, 171, 172, 173, 174, 175, 176, 177, 178, 180, 181,\n",
    "               182, 183, 184, 185, 186, 187, 189, 190, 192, 193, 194, 195, 196, 197, 198, 199, 200, 201, 202, 203, 204,\n",
    "               205, 206, 207, 209, 210, 211, 212, 213, 214, 215, 216, 217, 218, 219, 220, 221, 223, 224, 225, 226, 228,\n",
    "               229, 231, 232, 233, 234, 235, 236, 237, 238, 239, 240, 241, 242, 244, 246, 247, 248, 249, 250, 251, 252,\n",
    "               253, 254, 255, 256, 257, 258, 259, 260, 261, 262, 263, 265, 266, 267, 268, 269, 270, 271, 272, 273, 274,\n",
    "               275, 276, 277, 278, 279, 280, 281, 282, 283, 284, 285, 286, 287, 288, 289, 290, 291, 292, 293, 294, 295,\n",
    "               296, 298, 299, 300, 301, 302, 303, 304, 305, 306, 308, 309, 310, 311, 312, 313, 314, 315, 316, 317, 318,\n",
    "               319, 320, 321, 322, 323, 324, 325, 326, 327, 328, 329, 330, 331, 332, 333, 335, 336, 337, 339, 340, 341,\n",
    "               342, 343, 344, 345, 346, 347, 348, 349, 350, 351, 352, 353, 354, 355, 356, 357, 358, 359, 360, 361, 362,\n",
    "               363, 364, 365, 367, 369, 370, 371, 372, 373, 374, 375, 376, 377, 378, 379]\n",
    "examined_all_pid = [1, 2, 20, 22, 24, 45, 50, 68, 80, 88, 111, 129, 135, 142, 148, 151, 164, 166, 172, 189, 210, 213,\n",
    "                    228, 234, 257, 264, 276, 282, 313, 324, 331, 332, 338, 340, 343, 344, 358, 363, 370, 372]\n",
    "\n",
    "# check for non-overlapping participants\n",
    "non_overlap = set(clicked).difference(examined_all_pid)\n",
    "print(non_overlap)"
   ],
   "metadata": {
    "collapsed": false,
    "ExecuteTime": {
     "end_time": "2024-10-25T07:04:55.665529Z",
     "start_time": "2024-10-25T07:04:55.654290Z"
    }
   },
   "id": "28991b5f4dfeeb24"
  },
  {
   "cell_type": "code",
   "execution_count": null,
   "outputs": [],
   "source": [],
   "metadata": {
    "collapsed": false
   },
   "id": "5fbc23071aa2be12"
  }
 ],
 "metadata": {
  "kernelspec": {
   "display_name": "Python 3",
   "language": "python",
   "name": "python3"
  },
  "language_info": {
   "codemirror_mode": {
    "name": "ipython",
    "version": 2
   },
   "file_extension": ".py",
   "mimetype": "text/x-python",
   "name": "python",
   "nbconvert_exporter": "python",
   "pygments_lexer": "ipython2",
   "version": "2.7.6"
  }
 },
 "nbformat": 4,
 "nbformat_minor": 5
}
