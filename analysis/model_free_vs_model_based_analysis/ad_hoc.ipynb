{
 "cells": [
  {
   "cell_type": "code",
   "execution_count": 12,
   "id": "initial_id",
   "metadata": {
    "collapsed": true,
    "ExecuteTime": {
     "end_time": "2023-12-28T11:15:37.344478Z",
     "start_time": "2023-12-28T11:15:37.335602Z"
    }
   },
   "outputs": [],
   "source": [
    "import pandas as pd\n",
    "import os\n",
    "import ast\n",
    "from pprint import pprint"
   ]
  },
  {
   "cell_type": "code",
   "execution_count": 13,
   "outputs": [
    {
     "data": {
      "text/plain": "Index([  5,   6,   8,  13,  14,  27,  28,  30,  31,  32,\n       ...\n       243, 247, 248, 249, 253, 254, 256, 257, 259, 261],\n      dtype='int64', name='pid', length=115)"
     },
     "execution_count": 13,
     "metadata": {},
     "output_type": "execute_result"
    }
   ],
   "source": [
    "### filter for participants who clicked in the stroop condition\n",
    "data = pd.read_csv(f\"../../data/human/stroop/mouselab-mdp.csv\")\n",
    "data = data[data[\"block\"] == \"training\"]\n",
    "\n",
    "click_temp_df = data[\"queries\"]\n",
    "\n",
    "number_of_clicks_list = []\n",
    "clicks_list = []\n",
    "for index, row in click_temp_df.items():\n",
    "    temp = ast.literal_eval(row)\n",
    "    clicks = temp[\"click\"][\"state\"][\"target\"]\n",
    "    clicks_list.append(clicks)\n",
    "    len_of_clicks = len(clicks)\n",
    "    number_of_clicks_list.append(len_of_clicks)\n",
    "    \n",
    "data[\"num_clicks\"] = number_of_clicks_list\n",
    "\n",
    "# group by pid and check their summed num_clicks\n",
    "data_grouped = data.groupby(\"pid\").sum()\n",
    "\n",
    "# check for sum > 0\n",
    "data_grouped = data_grouped[data_grouped[\"num_clicks\"] > 0]\n",
    "data_grouped.index"
   ],
   "metadata": {
    "collapsed": false,
    "ExecuteTime": {
     "end_time": "2023-12-28T11:15:37.856067Z",
     "start_time": "2023-12-28T11:15:37.349228Z"
    }
   },
   "id": "b48338dfeab04c37"
  },
  {
   "cell_type": "code",
   "execution_count": 16,
   "outputs": [
    {
     "name": "stdout",
     "output_type": "stream",
     "text": [
      "1\n",
      "2\n",
      "3\n",
      "4\n",
      "5\n",
      "6\n",
      "7\n",
      "8\n",
      "9\n",
      "10\n",
      "11\n",
      "12\n",
      "13\n",
      "14\n",
      "15\n",
      "16\n",
      "18\n",
      "19\n",
      "20\n",
      "21\n",
      "22\n",
      "23\n",
      "24\n",
      "25\n",
      "26\n",
      "27\n",
      "28\n",
      "29\n",
      "30\n",
      "31\n",
      "32\n",
      "33\n",
      "34\n",
      "35\n",
      "36\n",
      "37\n",
      "38\n",
      "39\n",
      "40\n",
      "41\n",
      "42\n",
      "43\n",
      "44\n",
      "45\n",
      "46\n",
      "47\n",
      "48\n",
      "50\n",
      "51\n",
      "52\n",
      "53\n",
      "54\n",
      "55\n",
      "56\n",
      "58\n",
      "59\n",
      "60\n",
      "62\n",
      "63\n",
      "64\n",
      "65\n",
      "66\n",
      "67\n",
      "68\n",
      "69\n",
      "73\n",
      "74\n",
      "75\n",
      "77\n",
      "78\n",
      "79\n",
      "80\n",
      "81\n",
      "82\n",
      "83\n",
      "85\n",
      "87\n",
      "89\n",
      "90\n",
      "92\n",
      "93\n",
      "94\n",
      "95\n",
      "96\n",
      "97\n",
      "98\n",
      "99\n",
      "100\n",
      "101\n",
      "102\n",
      "103\n",
      "104\n",
      "105\n",
      "106\n",
      "108\n",
      "110\n",
      "111\n",
      "112\n",
      "113\n",
      "114\n",
      "115\n",
      "116\n",
      "117\n"
     ]
    }
   ],
   "source": [
    "### filter for participants who clicked in the MB condition\n",
    "data = pd.read_csv(f\"../../data/human/mb/mouselab-mdp.csv\")\n",
    "data = data[data[\"block\"] == \"training\"]\n",
    "\n",
    "click_temp_df = data[\"queries\"]\n",
    "\n",
    "number_of_clicks_list = []\n",
    "clicks_list = []\n",
    "for index, row in click_temp_df.items():\n",
    "    temp = ast.literal_eval(row)\n",
    "    clicks = temp[\"click\"][\"state\"][\"target\"]\n",
    "    clicks_list.append(clicks)\n",
    "    len_of_clicks = len(clicks)\n",
    "    number_of_clicks_list.append(len_of_clicks)\n",
    "    \n",
    "data[\"num_clicks\"] = number_of_clicks_list\n",
    "\n",
    "# group by pid and check their summed num_clicks\n",
    "data_grouped = data.groupby(\"pid\").sum()\n",
    "\n",
    "# check for sum > 0\n",
    "data_grouped = data_grouped[data_grouped[\"num_clicks\"] > 0]\n",
    "all = data_grouped.index\n",
    "for item in all:\n",
    "    print(item)"
   ],
   "metadata": {
    "collapsed": false,
    "ExecuteTime": {
     "end_time": "2023-12-28T11:15:51.901679Z",
     "start_time": "2023-12-28T11:15:51.463119Z"
    }
   },
   "id": "44c6211c8e48d943"
  },
  {
   "cell_type": "code",
   "execution_count": 14,
   "outputs": [],
   "source": [],
   "metadata": {
    "collapsed": false,
    "ExecuteTime": {
     "end_time": "2023-12-28T11:15:38.277875Z",
     "start_time": "2023-12-28T11:15:38.270746Z"
    }
   },
   "id": "a4f9388eb137f9a1"
  }
 ],
 "metadata": {
  "kernelspec": {
   "display_name": "Python 3",
   "language": "python",
   "name": "python3"
  },
  "language_info": {
   "codemirror_mode": {
    "name": "ipython",
    "version": 2
   },
   "file_extension": ".py",
   "mimetype": "text/x-python",
   "name": "python",
   "nbconvert_exporter": "python",
   "pygments_lexer": "ipython2",
   "version": "2.7.6"
  }
 },
 "nbformat": 4,
 "nbformat_minor": 5
}
