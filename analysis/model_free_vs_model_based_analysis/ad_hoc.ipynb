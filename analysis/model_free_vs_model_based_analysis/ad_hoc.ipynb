{
 "cells": [
  {
   "cell_type": "code",
   "execution_count": 16,
   "id": "initial_id",
   "metadata": {
    "collapsed": true,
    "ExecuteTime": {
     "end_time": "2023-12-08T13:37:00.059918Z",
     "start_time": "2023-12-08T13:37:00.053879Z"
    }
   },
   "outputs": [],
   "source": [
    "import pandas as pd\n",
    "import os\n",
    "import ast"
   ]
  },
  {
   "cell_type": "code",
   "execution_count": 26,
   "outputs": [
    {
     "data": {
      "text/plain": "Index([  2,   6,  11,  14,  17,  18,  20,  26,  27,  29,  31,  35,  38,  39,\n        42,  44,  47,  49,  53,  55,  57,  60,  61,  64,  71,  73,  77,  79,\n        80,  81,  83,  85,  87,  88,  92,  95,  97,  99, 101, 107, 109, 110,\n       112, 117, 118, 119, 120, 123, 128, 131, 135, 136, 142, 143, 144, 147,\n       150, 151, 153, 154, 155, 157, 160, 161, 162, 164, 165, 166, 169, 170,\n       171, 177, 178, 183, 185, 188],\n      dtype='int64', name='pid')"
     },
     "execution_count": 26,
     "metadata": {},
     "output_type": "execute_result"
    }
   ],
   "source": [
    "### filter for participants who clicked in the stroop condition\n",
    "data = pd.read_csv(f\"../../data/human/stroop/mouselab-mdp.csv\")\n",
    "data = data[data[\"block\"] == \"training\"]\n",
    "\n",
    "click_temp_df = data[\"queries\"]\n",
    "\n",
    "number_of_clicks_list = []\n",
    "clicks_list = []\n",
    "for index, row in click_temp_df.items():\n",
    "    temp = ast.literal_eval(row)\n",
    "    clicks = temp[\"click\"][\"state\"][\"target\"]\n",
    "    clicks_list.append(clicks)\n",
    "    len_of_clicks = len(clicks)\n",
    "    number_of_clicks_list.append(len_of_clicks)\n",
    "    \n",
    "data[\"num_clicks\"] = number_of_clicks_list\n",
    "\n",
    "# group by pid and check their summed num_clicks\n",
    "data_grouped = data.groupby(\"pid\").sum()\n",
    "\n",
    "# check for sum > 0\n",
    "data_grouped = data_grouped[data_grouped[\"num_clicks\"] > 0]\n",
    "data_grouped.index"
   ],
   "metadata": {
    "collapsed": false,
    "ExecuteTime": {
     "end_time": "2023-12-08T13:40:41.242463Z",
     "start_time": "2023-12-08T13:40:40.821096Z"
    }
   },
   "id": "b48338dfeab04c37"
  },
  {
   "cell_type": "code",
   "execution_count": 17,
   "outputs": [],
   "source": [],
   "metadata": {
    "collapsed": false,
    "ExecuteTime": {
     "end_time": "2023-12-08T13:37:00.469352Z",
     "start_time": "2023-12-08T13:37:00.458842Z"
    }
   },
   "id": "44c6211c8e48d943"
  }
 ],
 "metadata": {
  "kernelspec": {
   "display_name": "Python 3",
   "language": "python",
   "name": "python3"
  },
  "language_info": {
   "codemirror_mode": {
    "name": "ipython",
    "version": 2
   },
   "file_extension": ".py",
   "mimetype": "text/x-python",
   "name": "python",
   "nbconvert_exporter": "python",
   "pygments_lexer": "ipython2",
   "version": "2.7.6"
  }
 },
 "nbformat": 4,
 "nbformat_minor": 5
}
