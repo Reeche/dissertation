{
 "cells": [
  {
   "cell_type": "code",
   "execution_count": 1,
   "metadata": {
    "collapsed": true
   },
   "outputs": [
    {
     "name": "stdout",
     "output_type": "stream",
     "text": [
      "0.0014823785086652134 10.100391227030231 1\n",
      "0.6944031964533239 0.15435992578849722 1\n",
      "0.32355728657227856 0.9745127436281859 1\n",
      "0.28168527689145734 1.1589409957531398 1\n",
      "0.0005038618843236966 12.101318226386317 1\n"
     ]
    }
   ],
   "source": [
    "from scipy.stats import chi2_contingency\n",
    "\n",
    "# analysis to check more improving participants?\n",
    "# based on fitting Mann Kendall for each participant  and then looking at the test statistic\n",
    "\n",
    "\"\"\"\n",
    "29/52, 32/52, 33/53, 43/51 improved partcipants\n",
    "137 in total improved participants\n",
    "out of 208 total participants\n",
    "\"\"\"\n",
    "\n",
    "data = [[137, 71], [104, 104]]\n",
    "chi, p, dof, _ = chi2_contingency(data)\n",
    "print(p, chi, dof)\n",
    "\n",
    "data = [[29, 23], [26, 26]]\n",
    "chi, p, dof, _ = chi2_contingency(data)\n",
    "print(p, chi, dof)\n",
    "\n",
    "data = [[32, 20], [26, 26]]\n",
    "chi, p, dof, _ = chi2_contingency(data)\n",
    "print(p, chi, dof)\n",
    "\n",
    "data = [[33, 20], [26.5, 26.5]]\n",
    "chi, p, dof, _ = chi2_contingency(data)\n",
    "print(p, chi, dof)\n",
    "\n",
    "data = [[43, 8], [25.5, 25.5]]\n",
    "chi, p, dof, _ = chi2_contingency(data)\n",
    "print(p, chi, dof)"
   ]
  },
  {
   "cell_type": "code",
   "execution_count": 2,
   "outputs": [
    {
     "name": "stdout",
     "output_type": "stream",
     "text": [
      "0.11076649817206922 2.5432511434368443 1\n",
      "0.8276486235971969 0.047401247401247404 1\n",
      "0.39513210907560736 0.7230902777777778 1\n",
      "0.7166164215181947 0.13175778757870793 1\n",
      "0.12557934828647596 2.3463175122749593 1\n"
     ]
    }
   ],
   "source": [
    "# Count changes on how many Mann Kendall test statistics are >0 or <0 (? did we do that?)\n",
    "\n",
    "# high_variance_low_cost: 50 increasing test statistic, 45 decreasing test statistic #increasing here is good\n",
    "# high_variance_high_cost: 76 increasing test statistic, 60 decreasing test statistic\n",
    "# low_variance_low_cost: 44 increasing test statistic, 51 decreasing test statistic #decreasing here is good\n",
    "# low_variance_high_cost: 19 increasing test statistic, 37 decreasing test statistic #decreasing here is good\n",
    "\n",
    "# 214 improved, 168 deproved out of 382 sequences\n",
    "from scipy.stats import chi2_contingency\n",
    "data = [[214, 168], [191, 191]]\n",
    "chi, p, dof, _ = chi2_contingency(data)\n",
    "print(p, chi, dof)\n",
    "\n",
    "data = [[50, 45], [47.5, 47.5]]\n",
    "chi, p, dof, _ = chi2_contingency(data)\n",
    "print(p, chi, dof)\n",
    "\n",
    "data = [[76, 60], [68, 68]]\n",
    "chi, p, dof, _ = chi2_contingency(data)\n",
    "print(p, chi, dof)\n",
    "\n",
    "data = [[44, 51], [47.5, 47.5]]\n",
    "chi, p, dof, _ = chi2_contingency(data)\n",
    "print(p, chi, dof)\n",
    "\n",
    "data = [[19, 37], [28, 28]]\n",
    "chi, p, dof, _ = chi2_contingency(data)\n",
    "print(p, chi, dof)"
   ],
   "metadata": {
    "collapsed": false
   }
  },
  {
   "cell_type": "code",
   "execution_count": 3,
   "outputs": [
    {
     "name": "stdout",
     "output_type": "stream",
     "text": [
      "7.382609151582744e-08 28.96163378606127 1\n",
      "3.838661181227221e-10 39.193244485294116 1\n",
      "0.0020150129882268372 9.535809325465694 1\n",
      "1.5751724673197928e-07 27.494802494802496 1\n",
      "0.000268073700245179 13.28125 1\n",
      "0.7566635889632434 0.09601634320735444 1\n"
     ]
    }
   ],
   "source": [
    "# Count how many participants improved at least twice\n",
    "\n",
    "# high_variance_low_cost: 40 participants improved at least twice out of 52 participants\n",
    "# high_variance_high_cost: 49 participants improved at least twice out of 52 participants\n",
    "# low_variance_low_cost: 43 participants improved at least twice out of 53 participants\n",
    "# low_variance_high_cost: 26 participants improved at least twice out of 51 participants\n",
    "\n",
    "# 158 improved vs 208 in otal\n",
    "from scipy.stats import chi2_contingency\n",
    "data = [[158, 50], [104, 104]]\n",
    "chi, p, dof, _ = chi2_contingency(data)\n",
    "print(p, chi, dof)\n",
    "\n",
    "### when filtering for participants who made more than 0 adjustments:\n",
    "# high_variance_low_cost: 40 participants improved at least twice out of 49 participants\n",
    "# high_variance_high_cost: 49 participants improved at least twice out of 50 participants\n",
    "# low_variance_low_cost: 43 participants improved at least twice out of 50 participants\n",
    "# low_variance_high_cost: 26 participants improved at least twice out of 47 participants\n",
    "# 158 out of 196 participants\n",
    "data = [[158, 38], [98, 98]]\n",
    "chi, p, dof, _ = chi2_contingency(data)\n",
    "print(p, chi, dof)\n",
    "\n",
    "data = [[40, 9], [24.5, 24.5]]\n",
    "chi, p, dof, _ = chi2_contingency(data)\n",
    "print(p, chi, dof)\n",
    "\n",
    "data = [[49, 1], [25, 25]]\n",
    "chi, p, dof, _ = chi2_contingency(data)\n",
    "print(p, chi, dof)\n",
    "\n",
    "data = [[43, 7], [25, 25]]\n",
    "chi, p, dof, _ = chi2_contingency(data)\n",
    "print(p, chi, dof)\n",
    "\n",
    "data = [[26, 21], [23.5, 23.5]]\n",
    "chi, p, dof, _ = chi2_contingency(data)\n",
    "print(p, chi, dof)"
   ],
   "metadata": {
    "collapsed": false
   }
  },
  {
   "cell_type": "markdown",
   "source": [
    "### group for participants best explained by a certain model family\n"
   ],
   "metadata": {
    "collapsed": false
   }
  },
  {
   "cell_type": "code",
   "execution_count": 2,
   "outputs": [
    {
     "name": "stdout",
     "output_type": "stream",
     "text": [
      "MCRL participants:  106\n",
      "Habitual participants:  15\n"
     ]
    }
   ],
   "source": [
    "from vars import planningamount_habitual, planningamount_mcrl\n",
    "\n",
    "# count how many values there are in total in this dict\n",
    "total = 0\n",
    "for key, value in planningamount_mcrl.items():\n",
    "    total += len(value)\n",
    "print(\"MCRL participants: \", total)\n",
    "\n",
    "# count how many values there are in total in this dict\n",
    "total = 0\n",
    "for key, value in planningamount_habitual.items():\n",
    "    total += len(value)\n",
    "print(\"Habitual participants: \", total)"
   ],
   "metadata": {
    "collapsed": false,
    "ExecuteTime": {
     "end_time": "2025-01-29T08:46:51.524015Z",
     "start_time": "2025-01-29T08:46:51.509388Z"
    }
   }
  },
  {
   "cell_type": "code",
   "execution_count": 3,
   "outputs": [
    {
     "name": "stdout",
     "output_type": "stream",
     "text": [
      "27 110\n"
     ]
    }
   ],
   "source": [
    "# count lengh of list\n",
    "planningamount_nonlearners = [0, 32, 47, 57, 74, 81, 17, 23, 154, 180, 21, 31, 124, 201, 12, 19, 27, 44, 52, 77, 104, 113, 130, 179,\n",
    "               184, 196, 200]\n",
    "planningamount_learners = [1, 76, 169, 191, 18, 60, 129, 139, 198, 38, 94, 103, 161, 49, 134, 70, 182, 83, 195, 108, 109, 111, 114,\n",
    "            149, 164, 177, 4, 48, 58, 82, 92, 136, 151, 7, 145, 189, 8, 35, 96, 50, 51, 93, 126, 141, 53, 71, 101, 117,\n",
    "            158, 146, 197, 2, 14, 36, 73, 98, 135, 138, 144, 157, 171, 181, 183, 13, 68, 80, 160, 163, 174, 24, 62, 86,\n",
    "            153, 28, 37, 45, 69, 147, 43, 61, 79, 100, 107, 128, 132, 166, 206, 84, 203, 102, 3, 66, 176, 6, 9, 34, 105,\n",
    "            121, 42, 110, 172, 85, 91, 106, 186, 115, 137, 143, 165, 170]\n",
    "\n",
    "print(len(planningamount_nonlearners), len(planningamount_learners))"
   ],
   "metadata": {
    "collapsed": false,
    "ExecuteTime": {
     "end_time": "2025-01-29T09:00:31.472576Z",
     "start_time": "2025-01-29T09:00:31.432956Z"
    }
   }
  },
  {
   "cell_type": "code",
   "execution_count": null,
   "outputs": [],
   "source": [],
   "metadata": {
    "collapsed": false
   }
  }
 ],
 "metadata": {
  "kernelspec": {
   "display_name": "Python 3",
   "language": "python",
   "name": "python3"
  },
  "language_info": {
   "codemirror_mode": {
    "name": "ipython",
    "version": 2
   },
   "file_extension": ".py",
   "mimetype": "text/x-python",
   "name": "python",
   "nbconvert_exporter": "python",
   "pygments_lexer": "ipython2",
   "version": "2.7.6"
  }
 },
 "nbformat": 4,
 "nbformat_minor": 0
}
