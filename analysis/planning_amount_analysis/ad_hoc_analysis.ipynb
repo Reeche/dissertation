{
 "cells": [
  {
   "cell_type": "code",
   "execution_count": 3,
   "metadata": {
    "collapsed": true
   },
   "outputs": [
    {
     "name": "stdout",
     "output_type": "stream",
     "text": [
      "0.0014823785086652134 10.100391227030231 1\n"
     ]
    }
   ],
   "source": [
    "from scipy.stats import chi2_contingency\n",
    "\n",
    "# analysis to check more improving participants?\n",
    "\n",
    "\"\"\"\n",
    "29/52, 32/52, 33/53, 43/51 improved partcipants\n",
    "137 in total improved participants\n",
    "out of 208 total participants\n",
    "\"\"\"\n",
    "\n",
    "data = [[137, 71], [104, 104]]\n",
    "chi, p, dof, _ = chi2_contingency(data)\n",
    "print(p, chi, dof)"
   ]
  },
  {
   "cell_type": "code",
   "execution_count": null,
   "outputs": [],
   "source": [],
   "metadata": {
    "collapsed": false
   }
  }
 ],
 "metadata": {
  "kernelspec": {
   "display_name": "Python 3",
   "language": "python",
   "name": "python3"
  },
  "language_info": {
   "codemirror_mode": {
    "name": "ipython",
    "version": 2
   },
   "file_extension": ".py",
   "mimetype": "text/x-python",
   "name": "python",
   "nbconvert_exporter": "python",
   "pygments_lexer": "ipython2",
   "version": "2.7.6"
  }
 },
 "nbformat": 4,
 "nbformat_minor": 0
}
