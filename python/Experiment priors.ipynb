{
 "cells": [
  {
   "cell_type": "code",
   "execution_count": 2,
   "metadata": {},
   "outputs": [],
   "source": [
    "import os\n",
    "import numpy as np\n",
    "import pandas as pd\n",
    "from learning_utils import pickle_load"
   ]
  },
  {
   "cell_type": "code",
   "execution_count": 29,
   "metadata": {},
   "outputs": [
    {
     "name": "stdout",
     "output_type": "stream",
     "text": [
      "LVOC\n",
      "Alternating High Pre-clicks: 8.42 Post-clicks: 10.33 click diff: 1.91\n",
      "Alternating Low Pre-clicks: 8.41 Post-clicks: 10.08 click diff: 1.67\n",
      "Blocked High Pre-clicks: 8.32 Post-clicks: 10.29 click diff: 1.97\n",
      "Blocked Low Pre-clicks: 8.09 Post-clicks: 10.39 click diff: 2.3\n",
      "\n",
      "REINFORCE\n",
      "Alternating High Pre-clicks: 12.35 Post-clicks: 13.57 click diff: 1.22\n",
      "Alternating Low Pre-clicks: 12.39 Post-clicks: 12.83 click diff: 0.44\n",
      "Blocked High Pre-clicks: 12.27 Post-clicks: 13.13 click diff: 0.86\n",
      "Blocked Low Pre-clicks: 12.72 Post-clicks: 12.95 click diff: 0.23\n",
      "\n"
     ]
    }
   ],
   "source": [
    "from collections import defaultdict\n",
    "result_dir = \"results/pre_discern_params_new_data\"\n",
    "fs = os.listdir(result_dir)\n",
    "data = []\n",
    "num_pre_clicks = defaultdict(lambda: defaultdict(list))\n",
    "num_post_clicks = defaultdict(lambda: defaultdict(list))\n",
    "models = [1729, 1825]\n",
    "seq_names = [\"Alternating High\", \"Alternating Low\", \"Blocked High\", \"Blocked Low\"]\n",
    "for f in fs:\n",
    "    b = f.split(\"_\")\n",
    "    model = int(b[0])\n",
    "    if model in [1729, 1825] and \"data\" in f:\n",
    "        pid = int(b[1])\n",
    "        s = int(b[2])\n",
    "        d = pickle_load(f\"{result_dir}/{f}\")\n",
    "        #print(d['a'])\n",
    "        #print(len(d['a']))\n",
    "        for sequences in d['a']:\n",
    "            #print(sequences)\n",
    "            sequence_clicks = [len(seq)-1 for seq in sequences]\n",
    "            pre_clicks = sequence_clicks[:5]\n",
    "            post_clicks = sequence_clicks[-10:]\n",
    "            #print(pre_clicks, post_clicks)\n",
    "            num_pre_clicks[model][s] += pre_clicks\n",
    "            num_post_clicks[model][s] += post_clicks\n",
    "\n",
    "model_names = [\"LVOC\", \"REINFORCE\"]\n",
    "for model, model_name in zip(models, model_names):\n",
    "    print(model_name)\n",
    "    for i, seq in enumerate(range(4)):\n",
    "        average_pre = np.round(np.mean(num_pre_clicks[model][seq]), 2)\n",
    "        average_post = np.round(np.mean(num_post_clicks[model][seq]), 2)\n",
    "        print(seq_names[i], \"Pre-clicks:\", average_pre, \"Post-clicks:\", average_post, \"click diff:\", np.round(average_post-average_pre, 2))\n",
    "    print(\"\")"
   ]
  },
  {
   "cell_type": "code",
   "execution_count": null,
   "metadata": {},
   "outputs": [],
   "source": []
  }
 ],
 "metadata": {
  "kernelspec": {
   "display_name": "Python 3.7.3 64-bit ('cogtut': conda)",
   "language": "python",
   "name": "python37364bitcogtutconda3e89249cb8f1438ca66244f989548773"
  },
  "language_info": {
   "codemirror_mode": {
    "name": "ipython",
    "version": 3
   },
   "file_extension": ".py",
   "mimetype": "text/x-python",
   "name": "python",
   "nbconvert_exporter": "python",
   "pygments_lexer": "ipython3",
   "version": "3.7.3"
  }
 },
 "nbformat": 4,
 "nbformat_minor": 2
}
